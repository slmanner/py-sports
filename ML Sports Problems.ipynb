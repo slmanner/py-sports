{
 "cells": [
  {
   "cell_type": "markdown",
   "id": "1894e325",
   "metadata": {},
   "source": [
    "# Metro Region Sports Team Correlations with Win/Loss Ratio\n",
    "\n",
    "In this project, I read in a file of metropolitan regions and their associated sports teams from an html file to find a few simple statistics. Each region may have had one or more teams from the \"Big 4\": NFL, MLB, NBA, or NHL, and I used a csv for each league that contained several years of win/loss percentages for each team. All statistics were from the perspective of the metropolitan region, so the html file was the \"source of authority\" for the location of a given sports team. Thus, teams which are commonly known by a different area (e.g. \"Oakland Raiders\") needed to be mapped into the metropolitan region given (e.g. San Francisco Bay Area).\n",
    "\n",
    "In Problem 1, I determined whether a correlation exists between metro region populations and the average of the win percentage for each region's NHL teams in 2018. \n",
    "\n",
    "Problem 2 explored the hypothesis that the mean of the winning percentages for all metro areas is equal between two sports by performing paired t-tests for each pair of sports. "
   ]
  },
  {
   "cell_type": "markdown",
   "id": "27455898",
   "metadata": {},
   "source": [
    "## Problem 1 - NHL Correlation\n",
    "\n",
    "Below is the code I developed to determine if there is a correlation between NHL team winning percentages and their corresponding metro area population using 2018 data."
   ]
  },
  {
   "cell_type": "markdown",
   "id": "6946325c",
   "metadata": {},
   "source": [
    "### Importing Libraries and Reading In Files\n",
    "\n",
    "The necessary libraries were imported and the html file read in as 'cities'. The 'Total' row at the bottom of 'cities' was filtered out and I chose the relevant columns I would need from the dataframe. The population column got renamed and changed to numeric form before printing a few columns of the resulting 'cities' dataframe for reference."
   ]
  },
  {
   "cell_type": "code",
   "execution_count": 25,
   "id": "51cbc09e",
   "metadata": {},
   "outputs": [
    {
     "name": "stdout",
     "output_type": "stream",
     "text": [
      "         Metropolitan area  Population                             NHL\n",
      "0            New York City    20153634  RangersIslandersDevils[note 3]\n",
      "1              Los Angeles    13310447                      KingsDucks\n",
      "2   San Francisco Bay Area     6657982                  Sharks[note 7]\n",
      "3                  Chicago     9512999                      Blackhawks\n",
      "4        Dallas–Fort Worth     7233323                           Stars\n",
      "5         Washington, D.C.     6131977                        Capitals\n",
      "6             Philadelphia     6070500                 Flyers[note 13]\n",
      "7                   Boston     4794447                          Bruins\n",
      "8   Minneapolis–Saint Paul     3551036                   Wild[note 16]\n",
      "9                   Denver     2853077              Avalanche[note 18]\n",
      "10   Miami–Fort Lauderdale     6066387                        Panthers\n",
      "11                 Phoenix     4661537                         Coyotes\n",
      "12                 Detroit     4297617                       Red Wings\n",
      "13                 Toronto     5928040                     Maple Leafs\n",
      "14                 Houston     6772470                               —\n",
      "15                 Atlanta     5789700                       [note 25]\n",
      "16          Tampa Bay Area     3032171                       Lightning\n",
      "17              Pittsburgh     2342299               Penguins[note 28]\n",
      "18               Cleveland     2055612                       [note 32]\n",
      "19                 Seattle     3798902                       [note 34]\n",
      "20              Cincinnati     2165139                               —\n",
      "21             Kansas City     2104509                       [note 39]\n",
      "22               St. Louis     2807002                  Blues[note 43]\n",
      "23               Baltimore     2798886                               —\n",
      "24               Charlotte     2474314                               —\n",
      "25            Indianapolis     2004230                               —\n",
      "26               Nashville     1865298                       Predators\n",
      "27               Milwaukee     1572482                               —\n",
      "28             New Orleans     1268883                               —\n",
      "29                 Buffalo     1132804                          Sabres\n",
      "30                Montreal     4098927                       Canadiens\n",
      "31               Vancouver     2463431                         Canucks\n",
      "32                 Orlando     2441257                               —\n",
      "33                Portland     2424955                               —\n",
      "34                Columbus     2041520                    Blue Jackets\n",
      "35                 Calgary     1392609                          Flames\n",
      "36                  Ottawa     1323783                        Senators\n",
      "37                Edmonton     1321426                          Oilers\n",
      "38          Salt Lake City     1186187                               —\n",
      "39                Winnipeg      778489                   Jets[note 61]\n",
      "40               San Diego     3317749                               —\n",
      "41             San Antonio     2429609                               —\n",
      "42              Sacramento     2296418                               —\n",
      "43               Las Vegas     2155664                  Golden Knights\n",
      "44            Jacksonville     1478212                               —\n",
      "45           Oklahoma City     1373211                               —\n",
      "46                 Memphis     1342842                               —\n",
      "47                 Raleigh     1302946                      Hurricanes\n",
      "48               Green Bay      318236                               —\n",
      "49                Hamilton      747545                       [note 71]\n",
      "50                  Regina      236481                               —\n"
     ]
    }
   ],
   "source": [
    "import pandas as pd\n",
    "import numpy as np\n",
    "import scipy.stats as stats\n",
    "import re\n",
    "cities=pd.read_html(\"https://raw.githubusercontent.com/slmanner/py-sports/master/wikipedia_data.html\")[1]\n",
    "cities=cities.iloc[:-1,[0,3,5,6,7,8]]\n",
    "cities = cities.rename(columns = {'Population (2016 est.)[8]':'Population'})\n",
    "cities['Population'] = pd.to_numeric(cities['Population'])\n",
    "print(cities.iloc[:,[0,1,5]])"
   ]
  },
  {
   "cell_type": "markdown",
   "id": "645a8f9b",
   "metadata": {},
   "source": [
    "### Cleaning the 'cities' Dataframe\n",
    "\n",
    "The 'notes' in the team names were eliminated and I expanded cities with more than one team to multiple rows. The 'citiesNHL' dataframe was printed for reference."
   ]
  },
  {
   "cell_type": "code",
   "execution_count": 26,
   "id": "342d52ef",
   "metadata": {},
   "outputs": [
    {
     "name": "stdout",
     "output_type": "stream",
     "text": [
      "         Metropolitan area  Population             NHL\n",
      "0            New York City    20153634         Rangers\n",
      "1            New York City    20153634       Islanders\n",
      "2            New York City    20153634          Devils\n",
      "3              Los Angeles    13310447           Kings\n",
      "4              Los Angeles    13310447           Ducks\n",
      "5   San Francisco Bay Area     6657982          Sharks\n",
      "6                  Chicago     9512999      Blackhawks\n",
      "7        Dallas–Fort Worth     7233323           Stars\n",
      "8         Washington, D.C.     6131977        Capitals\n",
      "9             Philadelphia     6070500          Flyers\n",
      "10                  Boston     4794447          Bruins\n",
      "11  Minneapolis–Saint Paul     3551036            Wild\n",
      "12                  Denver     2853077       Avalanche\n",
      "13   Miami–Fort Lauderdale     6066387        Panthers\n",
      "14                 Phoenix     4661537         Coyotes\n",
      "15                 Detroit     4297617       Red Wings\n",
      "16                 Toronto     5928040     Maple Leafs\n",
      "19          Tampa Bay Area     3032171       Lightning\n",
      "20              Pittsburgh     2342299        Penguins\n",
      "25               St. Louis     2807002           Blues\n",
      "29               Nashville     1865298       Predators\n",
      "32                 Buffalo     1132804          Sabres\n",
      "33                Montreal     4098927       Canadiens\n",
      "34               Vancouver     2463431         Canucks\n",
      "37                Columbus     2041520    Blue Jackets\n",
      "38                 Calgary     1392609          Flames\n",
      "39                  Ottawa     1323783        Senators\n",
      "40                Edmonton     1321426          Oilers\n",
      "42                Winnipeg      778489            Jets\n",
      "46               Las Vegas     2155664  Golden Knights\n",
      "50                 Raleigh     1302946      Hurricanes\n"
     ]
    }
   ],
   "source": [
    "cities['NHL'] = cities['NHL'].str.replace(r'\\[note\\s\\d+]', '', regex = True)\n",
    "citiesNHL = cities.assign(NHL = cities['NHL'].str.findall(r'[A-Z](?:\\s[A-Z]|[^A-Z])+')).explode('NHL').reset_index(drop=True).dropna()\n",
    "print(citiesNHL.iloc[:,[0,1,5]])"
   ]
  },
  {
   "cell_type": "markdown",
   "id": "a9772472",
   "metadata": {},
   "source": [
    "### Cleaning the NHL Dataframe and Merging\n",
    "\n",
    "A function was created for utilization in Problem 2. Within the function, the NHL dataframe was read in and its year filtered to 2018. I printed a list of the teams as a reference of what I was starting with. The first word for each NHL team was eliminated as well as any asterisks at the end. The remaining team names were cleaned up and the 'team' variable was renamed to 'NHL.'\n",
    "\n",
    "The cities and NHL dataframes were merged and the win percentage for each team calculated with overtime losses included as losses. The teams within each metro region were grouped using the average win percentage for each region. I printed the resulting dataframe for reference."
   ]
  },
  {
   "cell_type": "code",
   "execution_count": 27,
   "id": "1abb340a",
   "metadata": {},
   "outputs": [
    {
     "name": "stdout",
     "output_type": "stream",
     "text": [
      "0          Atlantic Division\n",
      "1       Tampa Bay Lightning*\n",
      "2             Boston Bruins*\n",
      "3       Toronto Maple Leafs*\n",
      "4           Florida Panthers\n",
      "5          Detroit Red Wings\n",
      "6         Montreal Canadiens\n",
      "7            Ottawa Senators\n",
      "8             Buffalo Sabres\n",
      "9      Metropolitan Division\n",
      "10      Washington Capitals*\n",
      "11      Pittsburgh Penguins*\n",
      "12      Philadelphia Flyers*\n",
      "13    Columbus Blue Jackets*\n",
      "14        New Jersey Devils*\n",
      "15       Carolina Hurricanes\n",
      "16        New York Islanders\n",
      "17          New York Rangers\n",
      "18          Central Division\n",
      "19      Nashville Predators*\n",
      "20            Winnipeg Jets*\n",
      "21           Minnesota Wild*\n",
      "22       Colorado Avalanche*\n",
      "23           St. Louis Blues\n",
      "24              Dallas Stars\n",
      "25        Chicago Blackhawks\n",
      "26          Pacific Division\n",
      "27     Vegas Golden Knights*\n",
      "28            Anaheim Ducks*\n",
      "29          San Jose Sharks*\n",
      "30        Los Angeles Kings*\n",
      "31            Calgary Flames\n",
      "32           Edmonton Oilers\n",
      "33         Vancouver Canucks\n",
      "34           Arizona Coyotes\n",
      "Name: team, dtype: object\n",
      "\n",
      "\n",
      "         Metropolitan area  Population     W%nhl\n",
      "0                   Boston     4794447  0.609756\n",
      "1                  Buffalo     1132804  0.304878\n",
      "2                  Calgary     1392609  0.451220\n",
      "3                  Chicago     9512999  0.402439\n",
      "4                 Columbus     2041520  0.548780\n",
      "5        Dallas–Fort Worth     7233323  0.512195\n",
      "6                   Denver     2853077  0.524390\n",
      "7                  Detroit     4297617  0.365854\n",
      "8                 Edmonton     1321426  0.439024\n",
      "9                Las Vegas     2155664  0.621951\n",
      "10             Los Angeles    13310447  0.542683\n",
      "11   Miami–Fort Lauderdale     6066387  0.536585\n",
      "12  Minneapolis–Saint Paul     3551036  0.548780\n",
      "13                Montreal     4098927  0.353659\n",
      "14               Nashville     1865298  0.646341\n",
      "15           New York City    20153634  0.459350\n",
      "16                  Ottawa     1323783  0.341463\n",
      "17            Philadelphia     6070500  0.512195\n",
      "18                 Phoenix     4661537  0.353659\n",
      "19              Pittsburgh     2342299  0.573171\n",
      "20                 Raleigh     1302946  0.439024\n",
      "21  San Francisco Bay Area     6657982  0.548780\n",
      "22               St. Louis     2807002  0.536585\n",
      "23          Tampa Bay Area     3032171  0.658537\n",
      "24                 Toronto     5928040  0.597561\n",
      "25               Vancouver     2463431  0.378049\n",
      "26        Washington, D.C.     6131977  0.597561\n",
      "27                Winnipeg      778489  0.634146\n"
     ]
    }
   ],
   "source": [
    "def nhl_correlation(): \n",
    "    nhl_df = pd.read_csv('https://raw.githubusercontent.com/slmanner/py-sports/master/nhl.csv')        \n",
    "    nhl_df = nhl_df[nhl_df['year'] == 2018]\n",
    "    print(nhl_df.iloc[:,0])\n",
    "    nhl_df['team'] = nhl_df['team'].str.replace(r'^\\w+\\s|\\*', '', regex = True)\n",
    "\n",
    "    nhl_df.replace({'team' : {'Bay Lightning': 'Lightning', 'Jersey Devils': 'Devils', 'Jose Sharks':'Sharks',\n",
    "                            'York Islanders':'Islanders', 'York Rangers': 'Rangers', \n",
    "                          'St. Louis Blues':'Blues','Angeles Kings':'Kings'}}, inplace = True)\n",
    "    nhl_df.rename(columns = {'team':'NHL'}, inplace = True)\n",
    "    nhl = citiesNHL.merge(nhl_df,on = 'NHL')\n",
    "    nhl['L'] = pd.to_numeric(nhl['L'])\n",
    "    nhl['W'] = pd.to_numeric(nhl['W'])\n",
    "    nhl['OL'] = pd.to_numeric(nhl['OL'])\n",
    "    nhl['W%nhl'] = (nhl['W'])/(nhl['L']+nhl['W']+nhl['OL'])\n",
    "    nhl = nhl.groupby(['Metropolitan area', 'Population'],as_index = False).agg({'W%nhl':np.mean})\n",
    "    return(nhl)\n",
    "nhl = nhl_correlation()\n",
    "print('\\n')\n",
    "print(nhl)"
   ]
  },
  {
   "cell_type": "markdown",
   "id": "ec785a51",
   "metadata": {},
   "source": [
    "### Finding the Correlation\n",
    "\n",
    "Finally, I found the correlation between the metro region population and their NHL teams' mean win percentage and printed the results."
   ]
  },
  {
   "cell_type": "code",
   "execution_count": 28,
   "id": "4d75b899",
   "metadata": {},
   "outputs": [
    {
     "name": "stdout",
     "output_type": "stream",
     "text": [
      "-0.002239945812164773\n"
     ]
    }
   ],
   "source": [
    "corr, pval = stats.pearsonr(nhl['Population'] , nhl['W%nhl'])\n",
    "print(corr)"
   ]
  },
  {
   "cell_type": "markdown",
   "id": "243526c7",
   "metadata": {},
   "source": [
    "### Problem 1 - Answer\n",
    "\n",
    "There is essentially no correlation between the size of a metropolitan area and its NHL win percentage in 2018 because the correlation is very close to 0."
   ]
  },
  {
   "cell_type": "markdown",
   "id": "ce164a37",
   "metadata": {},
   "source": [
    "## Problem 2 - Comparing Sports Teams by Metro Region\n",
    "\n",
    "This problem explored the hypothesis that the mean of the winning percentages for all metro areas is equal between two sports by performing paired t-tests for each pair of sports. To perform this analysis, I performed a series of paired t-tests between each pair of sports. \n",
    "\n",
    "Again, values were averaged when a sport had multiple teams in one region. For each sport, I only included cities which have teams engaged in that sport and others were dropped as appropriate."
   ]
  },
  {
   "cell_type": "markdown",
   "id": "2ebd828e",
   "metadata": {},
   "source": [
    "### Setting Up Problem 2\n",
    "\n",
    "This problem builds off of problem 1 using the same libraries and the work already performed on the 'cities' dataframe. Similar work was duplicated to the other three major league sports."
   ]
  },
  {
   "cell_type": "code",
   "execution_count": 29,
   "id": "1a1a986b",
   "metadata": {},
   "outputs": [],
   "source": [
    "# removing 'notes' for remaining three sports in 'cities' dataframe using a loop\n",
    "sports = ['NBA', 'MLB', 'NFL']\n",
    "for sport in sports:\n",
    "    cities[sport].str.split('[A-Z]+', expand=True)\n",
    "    cities[sport] = cities[sport].str.replace(r'\\[note\\s\\d+]', '', regex = True)       \n",
    "\n",
    "# expand cities with more than one team to multiple rows for each sport\n",
    "citiesNBA = cities.assign(NBA = cities['NBA'].str.findall(r'[A-Z,0-9](?:\\s[A-Z]|[^A-Z])+')).explode('NBA').reset_index(drop = True).dropna() \n",
    "citiesMLB = cities.assign(MLB = cities['MLB'].str.findall(r'[A-Z](?:\\s[A-Z]|[^A-Z])+')).explode('MLB').reset_index(drop = True).dropna() \n",
    "citiesNFL = cities.assign(NFL = cities['NFL'].str.findall(r'[A-Z,0-9](?:\\s[A-Z]|[^A-Z])+')).explode('NFL').reset_index(drop = True).dropna() "
   ]
  },
  {
   "cell_type": "markdown",
   "id": "9640114e",
   "metadata": {},
   "source": [
    "### Cleaning and Preparing csv's for Other Three Sports\n",
    "\n",
    "The following code is similar to work seen in the 'NHL_correlation' function. (I think I could make the following code more efficient by creating more loops for the remaining three sports and I welcome any suggestions for improvement.)"
   ]
  },
  {
   "cell_type": "code",
   "execution_count": 30,
   "id": "db4b6ac0",
   "metadata": {},
   "outputs": [],
   "source": [
    "# Read in csv's for remaining three sports\n",
    "mlb_df = pd.read_csv('https://raw.githubusercontent.com/slmanner/py-sports/master/mlb.csv')\n",
    "nba_df = pd.read_csv('https://raw.githubusercontent.com/slmanner/py-sports/master/nba.csv')\n",
    "nfl_df = pd.read_csv('https://raw.githubusercontent.com/slmanner/py-sports/master/nfl.csv')\n",
    "\n",
    "# filter year to 2018 for remaining three sports\n",
    "df_list = [nba_df, mlb_df, nfl_df] \n",
    "df_list_2018 = []\n",
    "for df in df_list:\n",
    "    df_filter = (df['year'] == 2018)\n",
    "    df_list_2018.append(df.loc[df_filter])\n",
    "# clean up the team names in each csv and merge each with the 'cities' dataframe\n",
    "# then find each metro area win percent\n",
    "# NBA\n",
    "nba_df['team'] = df_list_2018[0]['team'].str.replace(r'^\\w+\\s|\\*|\\s\\(\\d+\\)', '', regex = True)\n",
    "nba_df.replace({'team' : {'York Knicks': 'Knicks', 'State Warriors': 'Warriors', 'City Thunder':'Thunder',\n",
    "                          'Orleans Pelicans':'Pelicans', 'Antonio Spurs': 'Spurs','Angeles Lakers':'Lakers',\n",
    "                          'Angeles Clippers':'Clippers'}}, inplace = True)\n",
    "nba_df.rename(columns = {'team':'NBA'}, inplace = True)\n",
    "nba = citiesNBA.merge(nba_df,on = 'NBA')\n",
    "nba['L'] = pd.to_numeric(nba['L'])\n",
    "nba['W'] = pd.to_numeric(nba['W'])\n",
    "nba['W%nba'] = (nba['W'])/(nba['L']+nba['W'])\n",
    "# MLB\n",
    "mlb_df['team'] = df_list_2018[1]['team'].str.replace(r'^\\w+\\s|\\*|\\s\\(\\d+\\)', '', regex = True)\n",
    "mlb_df.replace({'team' : {'York Yankees': 'Yankees', 'Bay Rays': 'Rays', 'City Royals':'Royals', 'Diego Padres': \n",
    "                          'Padres','York Mets':'Mets', 'St. Louis Cardinals': 'Cardinals', 'Francisco Giants':'Giants', \n",
    "                          'Angeles Angels':'Angels','Angeles Dodgers':'Dodgers'}}, inplace = True)\n",
    "mlb_df.rename(columns = {'team':'MLB'}, inplace = True)\n",
    "mlb = citiesMLB.merge(mlb_df,on = 'MLB')\n",
    "mlb['L'] = pd.to_numeric(mlb['L'])\n",
    "mlb['W'] = pd.to_numeric(mlb['W'])\n",
    "mlb['W%mlb'] = (mlb['W'])/(mlb['L']+mlb['W'])\n",
    "# NFL\n",
    "nfl_df['team'] = df_list_2018[2]['team'].str.replace(r'^\\w+\\s|\\*|\\s\\+|\\+|\\s\\(\\d+\\)', '', regex = True)\n",
    "nfl_df.replace({'team' : {'England Patriots': 'Patriots', 'City Chiefs': 'Chiefs', 'Bay Packers': 'Packers',\n",
    "                          'York Jets': 'Jets', 'Orleans Saints': 'Saints', 'York Giants': 'Giants', 'Angeles Rams': 'Rams',\n",
    "                          'Bay Buccaneers': 'Buccaneers','Angeles Chargers': 'Chargers', 'Francisco 49ers': '49ers'}}, inplace = True)\n",
    "nfl_df.rename(columns = {'team':'NFL'}, inplace = True)\n",
    "nfl = citiesNFL.merge(nfl_df,on = 'NFL')\n",
    "nfl['L'] = pd.to_numeric(nfl['L'])\n",
    "nfl['W'] = pd.to_numeric(nfl['W'])\n",
    "nfl['W%nfl'] = (nfl['W'])/(nfl['L']+nfl['W'])\n",
    "# group the metro areas back together for each sport\n",
    "nba = nba.groupby(['Metropolitan area'],as_index = False).agg({'W%nba':np.mean})\n",
    "mlb = mlb.groupby(['Metropolitan area'],as_index = False).agg({'W%mlb':np.mean})\n",
    "nfl = nfl.groupby(['Metropolitan area'],as_index = False).agg({'W%nfl':np.mean})"
   ]
  },
  {
   "cell_type": "markdown",
   "id": "78ea7b6d",
   "metadata": {},
   "source": [
    "### Performing t-tests\n",
    "\n",
    "The dataframes were merged for each pair of sports, creating six combinations. Paired t-test were performed to compare winning percentages between the sports. (I think I could make this code more efficient by creating a single table with all four sports before performing the t-tests from the single table making sure to drop NA's.)"
   ]
  },
  {
   "cell_type": "code",
   "execution_count": 31,
   "id": "0e841a4a",
   "metadata": {},
   "outputs": [],
   "source": [
    "# create dataframes containing the 6 pairs of sports\n",
    "nhl_nfl = nhl.merge(nfl, on = 'Metropolitan area')\n",
    "nhl_nba = nhl.merge(nba, on = 'Metropolitan area')\n",
    "nhl_mlb = nhl.merge(mlb, on = 'Metropolitan area')    \n",
    "nfl_nba = nfl.merge(nba, on = 'Metropolitan area')\n",
    "nfl_mlb = nfl.merge(mlb, on = 'Metropolitan area')    \n",
    "nba_mlb = nba.merge(mlb, on = 'Metropolitan area')\n",
    "# perform t-tests on win percentages between pairs of sports\n",
    "teststat,NHL_NFL = stats.ttest_rel(nhl_nfl['W%nhl'],nhl_nfl['W%nfl'])\n",
    "teststat,NHL_NBA = stats.ttest_rel(nhl_nba['W%nhl'],nhl_nba['W%nba'])\n",
    "teststat,NHL_MLB = stats.ttest_rel(nhl_mlb['W%nhl'],nhl_mlb['W%mlb'])\n",
    "teststat,NFL_NBA = stats.ttest_rel(nfl_nba['W%nfl'],nfl_nba['W%nba'])\n",
    "teststat,NFL_MLB = stats.ttest_rel(nfl_mlb['W%nfl'],nfl_mlb['W%mlb'])\n",
    "teststat,NBA_MLB = stats.ttest_rel(nba_mlb['W%nba'],nba_mlb['W%mlb'])"
   ]
  },
  {
   "cell_type": "markdown",
   "id": "d1a5bd8f",
   "metadata": {},
   "source": [
    "### Printing Results"
   ]
  },
  {
   "cell_type": "code",
   "execution_count": 32,
   "id": "964339f6",
   "metadata": {},
   "outputs": [
    {
     "data": {
      "text/html": [
       "<div>\n",
       "<style scoped>\n",
       "    .dataframe tbody tr th:only-of-type {\n",
       "        vertical-align: middle;\n",
       "    }\n",
       "\n",
       "    .dataframe tbody tr th {\n",
       "        vertical-align: top;\n",
       "    }\n",
       "\n",
       "    .dataframe thead th {\n",
       "        text-align: right;\n",
       "    }\n",
       "</style>\n",
       "<table border=\"1\" class=\"dataframe\">\n",
       "  <thead>\n",
       "    <tr style=\"text-align: right;\">\n",
       "      <th></th>\n",
       "      <th>NFL</th>\n",
       "      <th>NBA</th>\n",
       "      <th>NHL</th>\n",
       "      <th>MLB</th>\n",
       "    </tr>\n",
       "  </thead>\n",
       "  <tbody>\n",
       "    <tr>\n",
       "      <th>NFL</th>\n",
       "      <td>NaN</td>\n",
       "      <td>0.941792</td>\n",
       "      <td>0.458903</td>\n",
       "      <td>0.802069</td>\n",
       "    </tr>\n",
       "    <tr>\n",
       "      <th>NBA</th>\n",
       "      <td>0.941792</td>\n",
       "      <td>NaN</td>\n",
       "      <td>0.973079</td>\n",
       "      <td>0.950540</td>\n",
       "    </tr>\n",
       "    <tr>\n",
       "      <th>NHL</th>\n",
       "      <td>0.458903</td>\n",
       "      <td>0.973079</td>\n",
       "      <td>NaN</td>\n",
       "      <td>0.369759</td>\n",
       "    </tr>\n",
       "    <tr>\n",
       "      <th>MLB</th>\n",
       "      <td>0.802069</td>\n",
       "      <td>0.950540</td>\n",
       "      <td>0.369759</td>\n",
       "      <td>NaN</td>\n",
       "    </tr>\n",
       "  </tbody>\n",
       "</table>\n",
       "</div>"
      ],
      "text/plain": [
       "          NFL       NBA       NHL       MLB\n",
       "NFL       NaN  0.941792  0.458903  0.802069\n",
       "NBA  0.941792       NaN  0.973079  0.950540\n",
       "NHL  0.458903  0.973079       NaN  0.369759\n",
       "MLB  0.802069  0.950540  0.369759       NaN"
      ]
     },
     "execution_count": 32,
     "metadata": {},
     "output_type": "execute_result"
    }
   ],
   "source": [
    "# create a table of results\n",
    "p_values = [(np.NaN, NFL_NBA, NHL_NFL, NFL_MLB),(NFL_NBA, np.NaN, NHL_NBA, NBA_MLB), \n",
    "    (NHL_NFL, NHL_NBA, np.NaN, NHL_MLB),(NFL_MLB, NBA_MLB, NHL_MLB, np.NaN) ] \n",
    "sports = ['NFL', 'NBA', 'NHL', 'MLB']\n",
    "p_values = pd.DataFrame(p_values, index = sports, columns =sports) \n",
    "# print the results\n",
    "p_values"
   ]
  },
  {
   "cell_type": "markdown",
   "id": "16c40cf8",
   "metadata": {},
   "source": [
    "## Answer and Final Thoughts\n",
    "\n",
    "Because the p-values are >0.05 for the t-tests performed on each pair of sports, I failed to reject the hypothesis that the mean of the winning percentages for all metro areas is equal between any two sports. In other words, the results are not statistically significant for any pair of sports. This result makes sense because the expected mean of the winning percentages for each sport is 0.50, but grouping the teams by metro area throws these averages off slightly. What would be more interesting would be to compare averages between pairs of sports for one particular metro region to see if they are statistically different. "
   ]
  }
 ],
 "metadata": {
  "kernelspec": {
   "display_name": "Python 3",
   "language": "python",
   "name": "python3"
  },
  "language_info": {
   "codemirror_mode": {
    "name": "ipython",
    "version": 3
   },
   "file_extension": ".py",
   "mimetype": "text/x-python",
   "name": "python",
   "nbconvert_exporter": "python",
   "pygments_lexer": "ipython3",
   "version": "3.8.8"
  }
 },
 "nbformat": 4,
 "nbformat_minor": 5
}
